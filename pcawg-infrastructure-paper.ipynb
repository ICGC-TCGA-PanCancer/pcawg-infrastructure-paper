{
 "cells": [
  {
   "cell_type": "markdown",
   "metadata": {},
   "source": [
    "# About\n",
    "\n",
    "This Jupyter notebook contains the beginnings of our analysis code for the [PCAWG](https://dcc.icgc.org/pcawg) infrastructure paper.  This paper describes our efforts to run the core analysis for the project, namely the alignment workflow with 3 variant calling workflows.  We built various infrastructure components that let us do this in a distributed way across many (14) cloud and HPC environments.\n",
    "\n",
    "The main text of the paper is currently in a private Google document.  This notebook will be used (maybe) to generate our figures if I can figure out how to program in Python!\n"
   ]
  },
  {
   "cell_type": "code",
   "execution_count": 22,
   "metadata": {
    "collapsed": true
   },
   "outputs": [],
   "source": [
    "%matplotlib inline"
   ]
  },
  {
   "cell_type": "code",
   "execution_count": 123,
   "metadata": {
    "collapsed": false,
    "scrolled": false
   },
   "outputs": [
    {
     "name": "stdout",
     "output_type": "stream",
     "text": [
      "problem1\n",
      "problem1\n",
      "problem1\n",
      "problem1\n",
      "problem1\n",
      "problem1\n",
      "problem1\n",
      "problem1\n",
      "problem1\n",
      "problem1\n",
      "problem1\n",
      "Done\n",
      "[25.940833333333334, 24.923055555555557, 24.314444444444444, 22.222777777777775, 166.63888888888889, 207.33583333333334, 177.6461111111111, 123.43527777777778, 27.604444444444443, 33.033055555555556, 58.16138888888889, 102.1125, 11.976944444444445, 14.827222222222222, 18.99361111111111, 21.55, 179.44361111111112, 38.57472222222222, 46.39472222222222, 39.035555555555554, 52.78277777777778, 39.12444444444444, 99.57166666666667, 97.95083333333334, 157.02305555555554, 165.63972222222222, 27.930555555555554, 30.365000000000002, 23.834722222222222, 99.18805555555556, 17.284444444444443, 104.12638888888888, 39.531388888888884, 177.48638888888888, 36.75833333333333, 36.29638888888889, 32.93333333333333, 75.955, 29.02138888888889, 28.835277777777776, 49.52861111111111, 33.94694444444444, 66.8963888888889, 43.41916666666667, 38.31388888888889, 36.63111111111111, 45.27055555555555, 35.03305555555555, 37.86416666666666, 62.03722222222222, 34.00527777777778, 39.2175, 31.67777777777778, 52.90916666666667, 0.0, 52.89055555555556, 26.85388888888889, 37.91111111111111, 25.522777777777776, 40.77861111111111, 47.4425, 48.89944444444445, 43.34222222222222, 57.22, 25.149444444444445, 22.683888888888887, 22.293333333333333, 22.738888888888887, 21.002222222222223, 24.738888888888887, 125.0775, 20.32305555555556, 102.1036111111111, 24.459166666666665, 21.584166666666665, 33.69972222222222, 39.89444444444444, 16.9125, 23.954166666666666, 18.04888888888889, 49.367777777777775, 42.76833333333333, 32.4275, 101.70805555555556, 43.00944444444444, 21.63138888888889, 32.23222222222223, 55.02277777777778, 42.00833333333333]\n",
      "[0.0, 0.0, 0.0, 34.56916666666667, 0.0, 0.0, 0.0, 0.0, 0.0, 47.093888888888884, 45.49638888888889, 45.797222222222224, 214.95027777777779, 184.7422222222222, 182.61805555555557, 301.135, 44.31611111111111, 29.514722222222225, 47.144999999999996, 47.94916666666666, 15.8225, 18.1275, 193.60888888888888, 41.47, 53.877500000000005, 51.00194444444445, 49.73555555555556, 39.730000000000004, 79.7663888888889, 0.0, 40.1525, 0.0, 324.3972222222222, 198.995, 241.66305555555556, 193.90416666666667, 39.21694444444445, 45.90222222222222, 39.245, 225.05055555555555, 40.30083333333334, 18.698611111111113, 36.20666666666667, 288.43222222222226, 72.46944444444445, 53.732499999999995, 48.12972222222222, 86.29972222222223, 44.26305555555555, 89.27749999999999, 91.32722222222222, 38.00472222222222, 92.43027777777777, 77.3225, 30.894722222222224, 46.41305555555555, 76.1288888888889, 38.64333333333333, 45.67944444444445, 46.158611111111114, 36.88472222222222, 46.33138888888889, 41.636944444444445, 36.68527777777778, 0.0, 124.52555555555556, 31.546944444444442, 45.59194444444445, 26.793333333333333, 98.50722222222223, 38.5975, 0.0, 47.00666666666667, 74.96499999999999, 72.13583333333332, 21.837222222222223, 24.00611111111111, 29.770555555555557, 25.33111111111111, 25.746666666666666, 32.12305555555556, 120.60555555555555, 21.285277777777775, 160.44916666666668, 49.6025, 21.578055555555558, 33.98222222222223, 51.781388888888884, 38.76083333333334, 29.67361111111111, 51.58583333333333, 53.208888888888886, 98.89166666666667, 36.57166666666667, 178.51333333333332, 37.74777777777778, 26.513055555555557, 35.15222222222222, 76.3925, 66.57388888888889]\n"
     ]
    },
    {
     "data": {
      "image/png": "[encoded data removed]",
      "text/plain": [
       "<matplotlib.figure.Figure at 0x11178ed30>"
      ]
     },
     "metadata": {},
     "output_type": "display_data"
    }
   ],
   "source": [
    "import matplotlib.pyplot as plt\n",
    "import numpy as np\n",
    "import gzip\n",
    "from io import StringIO\n",
    "from io import BytesIO\n",
    "import urllib\n",
    "import json\n",
    "import statistics\n",
    "import traceback\n",
    "import sys\n",
    "\n",
    "# file content\n",
    "file_content = \"\"\n",
    "\n",
    "# https://github.com/ICGC-TCGA-PanCancer/pcawg-infrastructure-paper/raw/develop/donor_p_151215020209.small.jsonl.gz\n",
    "# http://pancancer.info/gnos_metadata/latest/donor_p_151215020209.jsonl.gz\n",
    "request = urllib.request.Request('https://github.com/ICGC-TCGA-PanCancer/pcawg-infrastructure-paper/raw/develop/donor_p_151215020209.small.jsonl.gz')\n",
    "request.add_header('Accept-encoding', 'gzip')\n",
    "response = urllib.request.urlopen(request)\n",
    "buf = BytesIO( response.read())\n",
    "f = gzip.GzipFile(fileobj=buf)\n",
    "file_content = f.read()\n",
    "\n",
    "# normal list\n",
    "\n",
    "bwa_normal_timing_list = []\n",
    "bwa_tumor_timing_list = []\n",
    "\n",
    "for line in file_content.splitlines():\n",
    "    json_struct = json.loads(line.decode(encoding='UTF-8'))\n",
    "    #print(json_struct)\n",
    "    #print(json_struct['normal_specimen'])\n",
    "    try:\n",
    "        bwa_normal_timing = 0\n",
    "        for timing in json_struct['normal_specimen']['alignment']['timing_metrics'] :\n",
    "            #print(timing['metrics']['bwa_timing_seconds'])\n",
    "            bwa_normal_timing += timing['metrics']['bwa_timing_seconds']\n",
    "        #print(bwa_normal_timing)\n",
    "        bwa_normal_timing_list.append(bwa_normal_timing/60/60)\n",
    "    except:\n",
    "        pass\n",
    "    try:\n",
    "        bwa_tumor_timing = 0\n",
    "        for aligned_tumor in json_struct['aligned_tumor_specimens'] :\n",
    "            for timing in aligned_tumor['alignment']['timing_metrics'] :\n",
    "                bwa_tumor_timing += timing['metrics']['bwa_timing_seconds']\n",
    "        #print(bwa_tumor_timing)\n",
    "        bwa_tumor_timing_list.append(bwa_tumor_timing/60/60)\n",
    "    except Exception as err:\n",
    "        pass\n",
    "    \n",
    "print(\"Done\")\n",
    "#print(bwa_normal_timing_list)\n",
    "#print(bwa_tumor_timing_list)\n",
    "\n",
    "# histogram\n",
    "mu = statistics.mean(bwa_normal_timing_list) # mean of distribution\n",
    "sigma = statistics.stdev(bwa_normal_timing_list) # standard deviation of distribution\n",
    "num_bins = 30\n",
    "n, bins, patches = plt.hist(bwa_normal_timing_list, num_bins, normed=1, facecolor='green', alpha=0.5)\n",
    "n, bins, patches = plt.hist(bwa_tumor_timing_list, num_bins, normed=1, facecolor='blue', alpha=0.5)\n",
    "# add a 'best fit' line\n",
    "y = mlab.normpdf(bins, mu, sigma)\n",
    "plt.plot(bins, y, 'r--')\n",
    "plt.xlabel('Timing in Hours')\n",
    "plt.ylabel('Frequency')\n",
    "plt.title(r\"Histogram of IQ: $\\mu$=%3d, $\\sigma$=%3d\" % (mu, sigma))\n",
    "\n",
    "# Tweak spacing to prevent clipping of ylabel\n",
    "plt.subplots_adjust(left=0.15)\n",
    "plt.show()"
   ]
  },
  {
   "cell_type": "code",
   "execution_count": null,
   "metadata": {
    "collapsed": true
   },
   "outputs": [],
   "source": []
  }
 ],
 "metadata": {
  "kernelspec": {
   "display_name": "Python 3",
   "language": "python",
   "name": "python3"
  },
  "language_info": {
   "codemirror_mode": {
    "name": "ipython",
    "version": 3
   },
   "file_extension": ".py",
   "mimetype": "text/x-python",
   "name": "python",
   "nbconvert_exporter": "python",
   "pygments_lexer": "ipython3",
   "version": "3.5.1"
  }
 },
 "nbformat": 4,
 "nbformat_minor": 0
}
