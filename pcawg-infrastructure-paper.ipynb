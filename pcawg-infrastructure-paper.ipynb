{
 "cells": [
  {
   "cell_type": "markdown",
   "metadata": {},
   "source": [
    "# About\n",
    "\n",
    "This Jupyter notebook contains the beginnings of our analysis code for the [PCAWG](https://dcc.icgc.org/pcawg) infrastructure paper.  This paper describes our efforts to run the core analysis for the project, namely the alignment workflow with 3 variant calling workflows.  We built various infrastructure components that let us do this in a distributed way across many (14) cloud and HPC environments.\n",
    "\n",
    "The main text of the paper is currently in a private Google document.  This notebook will be used (maybe) to generate our figures if I can figure out how to program in Python!\n"
   ]
  },
  {
   "cell_type": "code",
   "execution_count": 22,
   "metadata": {
    "collapsed": true
   },
   "outputs": [],
   "source": [
    "%matplotlib inline"
   ]
  },
  {
   "cell_type": "code",
   "execution_count": 72,
   "metadata": {
    "collapsed": false
   },
   "outputs": [
    {
     "name": "stdout",
     "output_type": "stream",
     "text": [
      "{'gnos_repos_with_complete_alignment_set': [], 'sequencing_center': 'CNG', 'original_gnos_assignment': None, 'rna_seq': {'alignment': {'normal': {'star': {'submitter_sample_id': 'C0139RA', 'is_s3_transfer_scheduled': False, 'submitter_specimen_id': 'C0139RA', 'icgc_sample_id': 'SA507555', 'aliquot_id': 'edb05508-d27a-47ec-9790-4e6bed8ac759', 'is_s3_transfer_completed': False, 'exists_xml_md5sum_mismatch': False, 'is_oct2015_entry': False, 'aligned': True, 'dcc_specimen_type': 'Normal - tissue adjacent to primary', 'is_santa_cruz_entry': False, 'aligned_bam': {'gnos_last_modified': ['2015-09-15T22:24:06+00:00'], 'bai_file_md5sum': None, 'bam_file_md5sum': '0d1318b46e93e432f50c837fbac99795', 'bai_file_name': None, 'bai_file_size': None, 'gnos_repo': ['https://gtrepo-ebi.annailabs.com/'], 'bam_file_name': 'PCAWG.312469b6-dd3f-11e4-a399-3f45c254ba06.STAR.v1.bam', 'effective_xml_md5sum': ['1ac519f81b81002c4d78159f54e1715c'], 'bam_file_size': 7100282138, 'gnos_id': '82347c52-9235-4155-9d68-28d5dc0b437e'}, 'icgc_specimen_id': 'SP103796', 'is_aug2015_entry': False}, 'tophat': {'submitter_sample_id': 'C0139RA', 'is_s3_transfer_scheduled': False, 'submitter_specimen_id': 'C0139RA', 'icgc_sample_id': 'SA507555', 'aliquot_id': 'edb05508-d27a-47ec-9790-4e6bed8ac759', 'is_s3_transfer_completed': False, 'exists_xml_md5sum_mismatch': False, 'is_oct2015_entry': False, 'aligned': True, 'dcc_specimen_type': 'Normal - tissue adjacent to primary', 'is_santa_cruz_entry': False, 'aligned_bam': {'gnos_last_modified': ['2015-09-15T22:24:06+00:00'], 'bai_file_md5sum': None, 'bam_file_md5sum': '5984b7500a852e12820d185288b35811', 'bai_file_name': None, 'bai_file_size': None, 'gnos_repo': ['https://gtrepo-ebi.annailabs.com/'], 'bam_file_name': 'PCAWG.312469b6-dd3f-11e4-a399-3f45c254ba06.TopHat2.v1.bam', 'effective_xml_md5sum': ['7cfcc80b0eb7a0ae35ac923c2ae68ca5'], 'bam_file_size': 5788356628, 'gnos_id': 'a72570c7-0fea-4785-aae2-4f93667611c8'}, 'icgc_specimen_id': 'SP103796', 'is_aug2015_entry': False}}, 'tumor': [{'star': {'submitter_sample_id': 'C0139RT', 'is_s3_transfer_scheduled': False, 'icgc_specimen_id': 'SP103793', 'icgc_sample_id': 'SA507552', 'aliquot_id': '70e5009c-009c-4cff-8ea1-4c130c8a31e3', 'is_s3_transfer_completed': False, 'exists_xml_md5sum_mismatch': False, 'is_santa_cruz_entry': False, 'is_oct2015_entry': False, 'aligned': True, 'dcc_specimen_type': 'Primary tumour - solid tissue', 'aligned_bam': {'gnos_last_modified': ['2015-09-15T22:18:48+00:00'], 'bai_file_md5sum': None, 'bam_file_md5sum': 'b0321c4c635d6e61556b777302f5e6cf', 'bai_file_name': None, 'bam_file_size': 6938947224, 'gnos_repo': ['https://gtrepo-ebi.annailabs.com/'], 'bam_file_name': 'PCAWG.ad4d45fc-dd40-11e4-97ed-d059c254ba06.STAR.v1.bam', 'effective_xml_md5sum': ['7f25796061f7ed469a3dd5d2e447c112'], 'gnos_id': '45be11d7-0ad0-4944-a582-79fb90286d8c', 'bai_file_size': None}, 'is_aug2015_entry': False, 'submitter_specimen_id': 'C0139RT'}, 'tophat': {'submitter_sample_id': 'C0139RT', 'is_s3_transfer_scheduled': False, 'icgc_specimen_id': 'SP103793', 'icgc_sample_id': 'SA507552', 'aliquot_id': '70e5009c-009c-4cff-8ea1-4c130c8a31e3', 'is_s3_transfer_completed': False, 'exists_xml_md5sum_mismatch': False, 'is_santa_cruz_entry': False, 'is_oct2015_entry': False, 'aligned': True, 'dcc_specimen_type': 'Primary tumour - solid tissue', 'aligned_bam': {'gnos_last_modified': ['2015-09-15T22:18:48+00:00'], 'bai_file_md5sum': None, 'bam_file_md5sum': '1d13d0a6e327f9f72258c59cbfdc69e8', 'bai_file_name': None, 'bam_file_size': 5670043089, 'gnos_repo': ['https://gtrepo-ebi.annailabs.com/'], 'bam_file_name': 'PCAWG.ad4d45fc-dd40-11e4-97ed-d059c254ba06.TopHat2.v1.bam', 'effective_xml_md5sum': ['3170a9f7a50e310ad58bd63d142f7875'], 'gnos_id': '0822569a-b21d-4612-9cb9-ef14debdc5aa', 'bai_file_size': None}, 'is_aug2015_entry': False, 'submitter_specimen_id': 'C0139RT'}}]}}, 'donor_unique_id': 'RECA-EU::C0139', 'dcc_project_code': 'RECA-EU', 'duplicated_bwa_alignment_summary': {'exists_gnos_id_mismatch_in_normal': False, 'exists_mismatch_bwa_bams_in_tumor': False, 'exists_md5sum_mismatch_in_normal': False, 'exists_gnos_id_mismatch_in_tumor': False, 'is_train2_freeze_bam_missing': False, 'is_train2_freeze_normal_bam_missing': False, 'exists_gnos_id_mismatch': False, 'is_bam_used_by_sanger_missing': False, 'exists_md5sum_mismatch_between_train2_marked_and_sanger_used': False, 'exists_version_mismatch': False, 'is_santa_cruz_freeze_bam_missing': False, 'tumor': [], 'exists_md5sum_mismatch': False, 'is_train2_freeze_tumor_bam_missing': False, 'exists_mismatch_bwa_bams': False, 'exists_gnos_xml_mismatch_in_normal': False, 'exists_version_mismatch_between_train2_marked_and_sanger_used': False, 'exists_version_mismatch_in_tumor': False, 'exists_version_mismatch_in_normal': False, 'exists_gnos_xml_mismatch_in_tumor': False, 'normal': {}, 'exists_gnos_xml_mismatch': False, 'exists_mismatch_bwa_bams_in_normal': False, 'is_santa_cruz_freeze_tumor_bam_missing': False, 'exists_md5sum_mismatch_in_tumor': False, 'is_tumor_bam_used_by_sanger_missing': False, 'is_normal_bam_used_by_sanger_missing': False, 'is_santa_cruz_freeze_normal_bam_missing': False}, 'aligned_tumor_specimens': [], 'submitter_donor_id': 'C0139', 'gnos_repos_with_alignment_result': [], 'normal_specimen': {}, 'all_tumor_specimen_aliquots': [], 'icgc_donor_id': 'DO47207', 'gnos_study': 'icgc_pancancer', 'flags': {'vcf_in_jamboree': [], 'are_all_tumor_specimens_aligned': False, 'is_cell_line': False, 'is_train2_pilot': False, 'is_embl_variant_calling_performed': False, 'is_sanger_vcf_in_jamboree': False, 'is_normal_specimen_aligned': False, 'is_dkfz_embl_variant_calling_performed': False, 'is_test': False, 'is_bam_used_by_variant_calling_missing': False, 'is_tumor_tophat_rna_seq_alignment_performed': True, 'is_train2_donor': False, 'exists_xml_md5sum_mismatch': False, 'is_dkfz_variant_calling_performed': False, 'is_manual_qc_failed': False, 'is_normal_tophat_rna_seq_alignment_performed': True, 'exists_vcf_file_prefix_mismatch': False, 'is_normal_star_rna_seq_alignment_performed': True, 'all_tumor_specimen_aliquot_counts': 0, 'qc_score': 3145728, 'variant_calling_performed': [], 'is_donor_blacklisted': False, 'aligned_tumor_specimen_aliquot_counts': 0, 'has_aligned_tumor_specimen': False, 'is_tumor_star_rna_seq_alignment_performed': True, 'is_santa_cruz_donor': False, 'broad': {'exist_file_subsets_mismatch': False, 'broad_file_subset_exist': False, 'broad_tar_file_subset_exist': False, 'muse_file_subset_exist': False}, 'is_sanger_variant_calling_performed': False, 'is_oct2015_donor': False, 'is_aug2015_donor': False, 'is_broad_variant_calling_performed': False}, 'aligned_tumor_specimen_aliquots': []}\n",
      "{}\n",
      "key not found\n",
      "{'gnos_repos_with_complete_alignment_set': [], 'sequencing_center': 'CNG', 'original_gnos_assignment': None, 'rna_seq': {'alignment': {'normal': {}, 'tumor': [{'star': {'submitter_sample_id': 'C0138RT', 'is_s3_transfer_scheduled': False, 'icgc_specimen_id': 'SP103814', 'icgc_sample_id': 'SA507573', 'aliquot_id': '9978490d-efbc-44bc-9d83-eb58d742619d', 'is_s3_transfer_completed': False, 'exists_xml_md5sum_mismatch': False, 'is_santa_cruz_entry': False, 'is_oct2015_entry': False, 'aligned': True, 'dcc_specimen_type': 'Primary tumour - solid tissue', 'aligned_bam': {'gnos_last_modified': ['2015-09-15T22:25:48+00:00'], 'bai_file_md5sum': None, 'bam_file_md5sum': '73277d323e5111e3decb2da561780315', 'bai_file_name': None, 'bam_file_size': 6224601029, 'gnos_repo': ['https://gtrepo-ebi.annailabs.com/'], 'bam_file_name': 'PCAWG.bd6fe1a6-dd45-11e4-bd51-6b3cc254ba06.STAR.v1.bam', 'effective_xml_md5sum': ['c5935ccf7956367751d97f57a1febec6'], 'gnos_id': '97596356-9c1d-4ca9-832e-037b72ea961a', 'bai_file_size': None}, 'is_aug2015_entry': False, 'submitter_specimen_id': 'C0138RT'}, 'tophat': {'submitter_sample_id': 'C0138RT', 'is_s3_transfer_scheduled': False, 'icgc_specimen_id': 'SP103814', 'icgc_sample_id': 'SA507573', 'aliquot_id': '9978490d-efbc-44bc-9d83-eb58d742619d', 'is_s3_transfer_completed': False, 'exists_xml_md5sum_mismatch': False, 'is_santa_cruz_entry': False, 'is_oct2015_entry': False, 'aligned': True, 'dcc_specimen_type': 'Primary tumour - solid tissue', 'aligned_bam': {'gnos_last_modified': ['2015-09-15T22:25:48+00:00'], 'bai_file_md5sum': None, 'bam_file_md5sum': '4ca39beb278b8e4758b50e5030cab693', 'bai_file_name': None, 'bam_file_size': 5264568781, 'gnos_repo': ['https://gtrepo-ebi.annailabs.com/'], 'bam_file_name': 'PCAWG.bd6fe1a6-dd45-11e4-bd51-6b3cc254ba06.TopHat2.v1.bam', 'effective_xml_md5sum': ['682685d24474b83d616e4bc35263a07d'], 'gnos_id': '5ea4e065-26f4-40c2-8d79-61b8e430c74b', 'bai_file_size': None}, 'is_aug2015_entry': False, 'submitter_specimen_id': 'C0138RT'}}]}}, 'donor_unique_id': 'RECA-EU::C0138', 'dcc_project_code': 'RECA-EU', 'duplicated_bwa_alignment_summary': {'exists_gnos_id_mismatch_in_normal': False, 'exists_mismatch_bwa_bams_in_tumor': False, 'exists_md5sum_mismatch_in_normal': False, 'exists_gnos_id_mismatch_in_tumor': False, 'is_train2_freeze_bam_missing': False, 'is_train2_freeze_normal_bam_missing': False, 'exists_gnos_id_mismatch': False, 'is_bam_used_by_sanger_missing': False, 'exists_md5sum_mismatch_between_train2_marked_and_sanger_used': False, 'exists_version_mismatch': False, 'is_santa_cruz_freeze_bam_missing': False, 'tumor': [], 'exists_md5sum_mismatch': False, 'is_train2_freeze_tumor_bam_missing': False, 'exists_mismatch_bwa_bams': False, 'exists_gnos_xml_mismatch_in_normal': False, 'exists_version_mismatch_between_train2_marked_and_sanger_used': False, 'exists_version_mismatch_in_tumor': False, 'exists_version_mismatch_in_normal': False, 'exists_gnos_xml_mismatch_in_tumor': False, 'normal': {}, 'exists_gnos_xml_mismatch': False, 'exists_mismatch_bwa_bams_in_normal': False, 'is_santa_cruz_freeze_tumor_bam_missing': False, 'exists_md5sum_mismatch_in_tumor': False, 'is_tumor_bam_used_by_sanger_missing': False, 'is_normal_bam_used_by_sanger_missing': False, 'is_santa_cruz_freeze_normal_bam_missing': False}, 'aligned_tumor_specimens': [], 'submitter_donor_id': 'C0138', 'gnos_repos_with_alignment_result': [], 'normal_specimen': {}, 'all_tumor_specimen_aliquots': [], 'icgc_donor_id': 'DO47225', 'gnos_study': 'icgc_pancancer', 'flags': {'vcf_in_jamboree': [], 'are_all_tumor_specimens_aligned': False, 'is_cell_line': False, 'is_train2_pilot': False, 'is_embl_variant_calling_performed': False, 'is_sanger_vcf_in_jamboree': False, 'is_normal_specimen_aligned': False, 'is_dkfz_embl_variant_calling_performed': False, 'is_test': False, 'is_bam_used_by_variant_calling_missing': False, 'is_tumor_tophat_rna_seq_alignment_performed': True, 'is_train2_donor': False, 'exists_xml_md5sum_mismatch': False, 'is_dkfz_variant_calling_performed': False, 'is_manual_qc_failed': False, 'is_normal_tophat_rna_seq_alignment_performed': False, 'exists_vcf_file_prefix_mismatch': False, 'is_normal_star_rna_seq_alignment_performed': False, 'all_tumor_specimen_aliquot_counts': 0, 'qc_score': 3145728, 'variant_calling_performed': [], 'is_donor_blacklisted': False, 'aligned_tumor_specimen_aliquot_counts': 0, 'has_aligned_tumor_specimen': False, 'is_tumor_star_rna_seq_alignment_performed': True, 'is_santa_cruz_donor': False, 'broad': {'exist_file_subsets_mismatch': False, 'broad_file_subset_exist': False, 'broad_tar_file_subset_exist': False, 'muse_file_subset_exist': False}, 'is_sanger_variant_calling_performed': False, 'is_oct2015_donor': False, 'is_aug2015_donor': False, 'is_broad_variant_calling_performed': False}, 'aligned_tumor_specimen_aliquots': []}\n",
      "{}\n",
      "key not found\n",
      "HERE\n"
     ]
    }
   ],
   "source": [
    "import matplotlib.pyplot as plt\n",
    "import numpy as np\n",
    "import gzip\n",
    "from io import StringIO\n",
    "from io import BytesIO\n",
    "import urllib\n",
    "import json\n",
    "\n",
    "# file content\n",
    "file_content = \"\"\n",
    "\n",
    "# https://github.com/ICGC-TCGA-PanCancer/pcawg-infrastructure-paper/raw/develop/donor_p_151215020209.small.jsonl.gz\n",
    "# http://pancancer.info/gnos_metadata/latest/donor_p_151215020209.jsonl.gz\n",
    "request = urllib.request.Request('https://github.com/ICGC-TCGA-PanCancer/pcawg-infrastructure-paper/raw/develop/donor_p_151215020209.small.jsonl.gz')\n",
    "request.add_header('Accept-encoding', 'gzip')\n",
    "response = urllib.request.urlopen(request)\n",
    "buf = BytesIO( response.read())\n",
    "f = gzip.GzipFile(fileobj=buf)\n",
    "file_content = f.read()\n",
    "\n",
    "for line in file_content.splitlines():\n",
    "    json_struct = json.loads(line.decode(encoding='UTF-8'))\n",
    "    #print(json_struct)\n",
    "    #print(json_struct['normal_specimen'])\n",
    "    try:\n",
    "        for timing in json_struct['normal_specimen']['alignment']['timing_metrics'] :\n",
    "            print(timing['metrics']['bwa_timing_seconds'])\n",
    "    except:\n",
    "        print(\"key not found\")\n",
    "\n",
    "print(\"HERE\")"
   ]
  },
  {
   "cell_type": "code",
   "execution_count": null,
   "metadata": {
    "collapsed": true
   },
   "outputs": [],
   "source": []
  },
  {
   "cell_type": "code",
   "execution_count": null,
   "metadata": {
    "collapsed": true
   },
   "outputs": [],
   "source": []
  }
 ],
 "metadata": {
  "kernelspec": {
   "display_name": "Python 3",
   "language": "python",
   "name": "python3"
  },
  "language_info": {
   "codemirror_mode": {
    "name": "ipython",
    "version": 3
   },
   "file_extension": ".py",
   "mimetype": "text/x-python",
   "name": "python",
   "nbconvert_exporter": "python",
   "pygments_lexer": "ipython3",
   "version": "3.5.1"
  }
 },
 "nbformat": 4,
 "nbformat_minor": 0
}
