{
 "cells": [
  {
   "cell_type": "markdown",
   "metadata": {},
   "source": [
    "# About\n",
    "\n",
    "This Jupyter notebook contains the beginnings of our analysis code for the [PCAWG](https://dcc.icgc.org/pcawg) infrastructure paper.  This paper describes our efforts to run the core analysis for the project, namely the alignment workflow with 3 variant calling workflows.  We built various infrastructure components that let us do this in a distributed way across many (14) cloud and HPC environments.\n",
    "\n",
    "The main text of the paper is currently in a private Google document.  This notebook will be used (maybe) to generate our figures if I can figure out how to program in Python!\n"
   ]
  },
  {
   "cell_type": "code",
   "execution_count": 3,
   "metadata": {
    "collapsed": false
   },
   "outputs": [],
   "source": [
    "%matplotlib inline"
   ]
  },
  {
   "cell_type": "code",
   "execution_count": 4,
   "metadata": {
    "collapsed": false,
    "scrolled": false
   },
   "outputs": [
    {
     "name": "stdout",
     "output_type": "stream",
     "text": [
      "Done\n"
     ]
    },
    {
     "data": {
      "image/png": "[encoded data removed]",
      "text/plain": [
       "<matplotlib.figure.Figure at 0x10cfd0c88>"
      ]
     },
     "metadata": {},
     "output_type": "display_data"
    }
   ],
   "source": [
    "import matplotlib.pyplot as plt\n",
    "import matplotlib.mlab as mlab\n",
    "import numpy as np\n",
    "import gzip\n",
    "from io import StringIO\n",
    "from io import BytesIO\n",
    "import urllib\n",
    "import json\n",
    "import statistics\n",
    "import traceback\n",
    "import sys\n",
    "\n",
    "# file content\n",
    "file_content = \"\"\n",
    "\n",
    "# https://github.com/ICGC-TCGA-PanCancer/pcawg-infrastructure-paper/raw/develop/donor_p_151215020209.small.jsonl.gz\n",
    "# http://pancancer.info/gnos_metadata/latest/donor_p_151215020209.jsonl.gz\n",
    "request = urllib.request.Request('https://github.com/ICGC-TCGA-PanCancer/pcawg-infrastructure-paper/raw/develop/donor_p_151215020209.small.jsonl.gz')\n",
    "request.add_header('Accept-encoding', 'gzip')\n",
    "response = urllib.request.urlopen(request)\n",
    "buf = BytesIO( response.read())\n",
    "f = gzip.GzipFile(fileobj=buf)\n",
    "file_content = f.read()\n",
    "\n",
    "# normal list\n",
    "\n",
    "bwa_normal_timing_list = []\n",
    "bwa_tumor_timing_list = []\n",
    "\n",
    "for line in file_content.splitlines():\n",
    "    json_struct = json.loads(line.decode(encoding='UTF-8'))\n",
    "    #print(json_struct)\n",
    "    #print(json_struct['normal_specimen'])\n",
    "    try:\n",
    "        bwa_normal_timing = 0\n",
    "        for timing in json_struct['normal_specimen']['alignment']['timing_metrics'] :\n",
    "            #print(timing['metrics']['bwa_timing_seconds'])\n",
    "            bwa_normal_timing += timing['metrics']['bwa_timing_seconds']\n",
    "        #print(bwa_normal_timing)\n",
    "        bwa_normal_timing_list.append(bwa_normal_timing/60/60)\n",
    "    except:\n",
    "        pass\n",
    "    try:\n",
    "        bwa_tumor_timing = 0\n",
    "        for aligned_tumor in json_struct['aligned_tumor_specimens'] :\n",
    "            for timing in aligned_tumor['alignment']['timing_metrics'] :\n",
    "                bwa_tumor_timing += timing['metrics']['bwa_timing_seconds']\n",
    "        #print(bwa_tumor_timing)\n",
    "        bwa_tumor_timing_list.append(bwa_tumor_timing/60/60)\n",
    "    except Exception as err:\n",
    "        pass\n",
    "    \n",
    "print(\"Done\")\n",
    "#print(bwa_normal_timing_list)\n",
    "#print(bwa_tumor_timing_list)\n",
    "\n",
    "# histogram\n",
    "mu = statistics.mean(bwa_normal_timing_list) # mean of distribution\n",
    "sigma = statistics.stdev(bwa_normal_timing_list) # standard deviation of distribution\n",
    "num_bins = 30\n",
    "n, bins, patches = plt.hist(bwa_normal_timing_list, num_bins, normed=1, facecolor='green', alpha=0.5)\n",
    "n, bins, patches = plt.hist(bwa_tumor_timing_list, num_bins, normed=1, facecolor='blue', alpha=0.5)\n",
    "# add a 'best fit' line\n",
    "y = mlab.normpdf(bins, mu, sigma)\n",
    "plt.plot(bins, y, 'r--')\n",
    "plt.xlabel('Timing in Hours')\n",
    "plt.ylabel('Frequency')\n",
    "plt.title(r\"Histogram HI of IQ: $\\mu$=%3d, $\\sigma$=%3d\" % (mu, sigma))\n",
    "\n",
    "# Tweak spacing to prevent clipping of ylabel\n",
    "plt.subplots_adjust(left=0.15)\n",
    "plt.show()"
   ]
  },
  {
   "cell_type": "code",
   "execution_count": null,
   "metadata": {
    "collapsed": true
   },
   "outputs": [],
   "source": []
  }
 ],
 "metadata": {
  "anaconda-cloud": {},
  "kernelspec": {
   "display_name": "Python [conda env:python3]",
   "language": "python",
   "name": "conda-env-python3-py"
  },
  "language_info": {
   "codemirror_mode": {
    "name": "ipython",
    "version": 3
   },
   "file_extension": ".py",
   "mimetype": "text/x-python",
   "name": "python",
   "nbconvert_exporter": "python",
   "pygments_lexer": "ipython3",
   "version": "3.5.2"
  }
 },
 "nbformat": 4,
 "nbformat_minor": 0
}
